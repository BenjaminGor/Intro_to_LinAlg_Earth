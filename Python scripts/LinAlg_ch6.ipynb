{
 "cells": [
  {
   "cell_type": "code",
   "execution_count": 1,
   "metadata": {},
   "outputs": [],
   "source": [
    "import sympy"
   ]
  },
  {
   "cell_type": "code",
   "execution_count": 2,
   "metadata": {},
   "outputs": [
    {
     "name": "stdout",
     "output_type": "stream",
     "text": [
      "[Matrix([\n",
      "[1.0],\n",
      "[1.0],\n",
      "[1.0]]), Matrix([\n",
      "[1.0],\n",
      "[2.0],\n",
      "[  0]])]\n"
     ]
    }
   ],
   "source": [
    "myMatrix = sympy.Matrix([[1., 1., -2., 1.],\n",
    "                         [1., 2., 1., -1.],\n",
    "                         [1., 0., -5., 3.]])\n",
    "print(myMatrix.columnspace())"
   ]
  },
  {
   "cell_type": "code",
   "execution_count": 3,
   "metadata": {},
   "outputs": [
    {
     "name": "stdout",
     "output_type": "stream",
     "text": [
      "2\n"
     ]
    }
   ],
   "source": [
    "print(myMatrix.rank()) # or len(myMatrix.columnspace())"
   ]
  },
  {
   "cell_type": "code",
   "execution_count": 4,
   "metadata": {},
   "outputs": [
    {
     "name": "stdout",
     "output_type": "stream",
     "text": [
      "[Matrix([\n",
      "[ 5.0],\n",
      "[-3.0],\n",
      "[   1],\n",
      "[   0]]), Matrix([\n",
      "[-3.0],\n",
      "[ 2.0],\n",
      "[   0],\n",
      "[   1]])]\n"
     ]
    }
   ],
   "source": [
    "print(myMatrix.nullspace())\n"
   ]
  },
  {
   "cell_type": "code",
   "execution_count": 5,
   "metadata": {},
   "outputs": [
    {
     "name": "stdout",
     "output_type": "stream",
     "text": [
      "Matrix([[1.00000000000000, 1.00000000000000], [1.00000000000000, 2.00000000000000], [1.00000000000000, 0]]) Matrix([[1, 0, -5.00000000000000, 3.00000000000000], [0, 1, 3.00000000000000, -2.00000000000000]])\n"
     ]
    }
   ],
   "source": [
    "C, R = myMatrix.rank_decomposition()\n",
    "print(C, R)"
   ]
  }
 ],
 "metadata": {
  "kernelspec": {
   "display_name": "base",
   "language": "python",
   "name": "python3"
  },
  "language_info": {
   "codemirror_mode": {
    "name": "ipython",
    "version": 3
   },
   "file_extension": ".py",
   "mimetype": "text/x-python",
   "name": "python",
   "nbconvert_exporter": "python",
   "pygments_lexer": "ipython3",
   "version": "3.12.4"
  }
 },
 "nbformat": 4,
 "nbformat_minor": 2
}
