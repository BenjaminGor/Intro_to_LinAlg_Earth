{
 "cells": [
  {
   "cell_type": "code",
   "execution_count": 1,
   "metadata": {},
   "outputs": [],
   "source": [
    "import numpy as np\n",
    "from scipy import linalg"
   ]
  },
  {
   "cell_type": "code",
   "execution_count": 2,
   "metadata": {},
   "outputs": [
    {
     "name": "stdout",
     "output_type": "stream",
     "text": [
      "[[2. 1. 0.]\n",
      " [0. 1. 2.]\n",
      " [0. 0. 1.]]\n"
     ]
    }
   ],
   "source": [
    "A1 = np.array([[4, 2, 0],\n",
    "               [2, 2, 2],\n",
    "               [0, 2, 5]])\n",
    "print(linalg.cholesky(A1))"
   ]
  },
  {
   "cell_type": "code",
   "execution_count": 3,
   "metadata": {},
   "outputs": [
    {
     "name": "stdout",
     "output_type": "stream",
     "text": [
      "[[0. 0. 1.]\n",
      " [1. 0. 0.]\n",
      " [0. 1. 0.]] [[1.  0.  0. ]\n",
      " [0.5 1.  0. ]\n",
      " [0.5 0.  1. ]] [[2.  0.  0. ]\n",
      " [0.  2.  0. ]\n",
      " [0.  0.  0.5]] [[ 1.    1.    1.5 ]\n",
      " [ 0.    1.   -0.75]\n",
      " [ 0.    0.    1.  ]]\n",
      "True\n"
     ]
    }
   ],
   "source": [
    "A2 = np.array([[1, 1, 2],\n",
    "               [2, 2, 3],\n",
    "               [1, 3, 0]])\n",
    "P, L, U_raw = linalg.lu(A2)\n",
    "D = np.diag(np.diag(U_raw)) # Factor out the diagonal elements in U_raw\n",
    "U = U_raw/np.diag(U_raw)[:,None]\n",
    "print(P, L, D, U)\n",
    "print(np.allclose(P@L@D@U, A2)) # Check if the factors can be combined to reconstruct the matrix"
   ]
  },
  {
   "cell_type": "code",
   "execution_count": 4,
   "metadata": {},
   "outputs": [
    {
     "name": "stdout",
     "output_type": "stream",
     "text": [
      "[[-4.08248290e-01 -7.07106781e-01 -5.77350269e-01]\n",
      " [-4.08248290e-01  7.07106781e-01 -5.77350269e-01]\n",
      " [-8.16496581e-01  2.22044605e-16  5.77350269e-01]] [3.00000000e+00 1.73205081e+00 9.06493304e-17] [[-8.16496581e-01 -1.11022302e-16 -4.08248290e-01 -4.08248290e-01]\n",
      " [ 2.22044605e-16 -8.16496581e-01  4.08248290e-01 -4.08248290e-01]\n",
      " [-4.82329146e-02 -5.75332008e-01 -5.27099093e-01  6.23564922e-01]\n",
      " [-5.75332008e-01  4.82329146e-02  6.23564922e-01  5.27099093e-01]]\n"
     ]
    }
   ],
   "source": [
    "A3 = np.array([[1, 1, 0, 1],\n",
    "               [1,-1, 1, 0],\n",
    "               [2, 0, 1, 1]])\n",
    "U, Sigma, V_H = linalg.svd(A3)\n",
    "print(U, Sigma, V_H)"
   ]
  },
  {
   "cell_type": "code",
   "execution_count": 5,
   "metadata": {},
   "outputs": [
    {
     "name": "stdout",
     "output_type": "stream",
     "text": [
      "[[ 1.11111111e-01  1.11111111e-01  2.22222222e-01]\n",
      " [ 3.33333333e-01 -3.33333333e-01 -7.44563871e-17]\n",
      " [-1.11111111e-01  2.22222222e-01  1.11111111e-01]\n",
      " [ 2.22222222e-01 -1.11111111e-01  1.11111111e-01]]\n"
     ]
    }
   ],
   "source": [
    "print(linalg.pinv(A3))"
   ]
  },
  {
   "cell_type": "code",
   "execution_count": 6,
   "metadata": {},
   "outputs": [
    {
     "name": "stdout",
     "output_type": "stream",
     "text": [
      "[ 4.44444444e-01 -2.96500992e-16  2.22222222e-01  2.22222222e-01]\n",
      "(array([ 4.44444444e-01, -5.55111512e-17,  2.22222222e-01,  2.22222222e-01]), array([], dtype=float64), 2, array([3.00000000e+00, 1.73205081e+00, 9.61481343e-17]))\n"
     ]
    }
   ],
   "source": [
    "h = np.array([1, 1, 1])\n",
    "print(linalg.pinv(A3) @ h)\n",
    "print(linalg.lstsq(A3, h))  "
   ]
  }
 ],
 "metadata": {
  "kernelspec": {
   "display_name": "base",
   "language": "python",
   "name": "python3"
  },
  "language_info": {
   "codemirror_mode": {
    "name": "ipython",
    "version": 3
   },
   "file_extension": ".py",
   "mimetype": "text/x-python",
   "name": "python",
   "nbconvert_exporter": "python",
   "pygments_lexer": "ipython3",
   "version": "3.12.4"
  }
 },
 "nbformat": 4,
 "nbformat_minor": 2
}
