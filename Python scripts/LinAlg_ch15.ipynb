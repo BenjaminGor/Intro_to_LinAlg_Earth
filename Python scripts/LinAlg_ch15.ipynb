{
 "cells": [
  {
   "cell_type": "code",
   "execution_count": null,
   "metadata": {},
   "outputs": [],
   "source": [
    "import numpy as np\n",
    "import pandas as pd\n",
    "import scipy.linalg as linalg"
   ]
  },
  {
   "cell_type": "code",
   "execution_count": 4,
   "metadata": {},
   "outputs": [],
   "source": [
    "equake_Apr = pd.read_csv(\"Seismic activity_April.csv\", usecols=np.arange(7), parse_dates=[\"Orgin date\"])\n",
    "equake_Apr_daily_mag_max = equake_Apr.groupby(equake_Apr[\"Orgin date\"].dt.day)[\"Magnitude\"].max()"
   ]
  },
  {
   "cell_type": "code",
   "execution_count": 6,
   "metadata": {},
   "outputs": [],
   "source": [
    "# Three magnitude classes: 4.0-4.9, 5.0-5.9, 6.0-6.9\n",
    "def classify_mag(mag):\n",
    "    if mag >= 6.0:\n",
    "        return(0)\n",
    "    elif (5.0 <= mag <= 5.9):\n",
    "        return(1)\n",
    "    elif (mag <= 4.9):\n",
    "        return(2)"
   ]
  },
  {
   "cell_type": "code",
   "execution_count": 7,
   "metadata": {},
   "outputs": [],
   "source": [
    "equake_Apr_prev_states = (equake_Apr_daily_mag_max.loc[3:29].apply(classify_mag)).values\n",
    "equake_Apr_next_states = (equake_Apr_daily_mag_max.loc[4:30].apply(classify_mag)).values\n",
    "\n",
    "transition_matrix = np.zeros([3,3])\n",
    "trans_states, Apr_counts = np.unique(np.c_[equake_Apr_next_states, equake_Apr_prev_states], return_counts=True, axis=0)\n",
    "\n",
    "transition_matrix[trans_states[:,0], trans_states[:,1]] = Apr_counts\n",
    "transition_matrix = transition_matrix/np.sum(transition_matrix, axis=0)"
   ]
  },
  {
   "cell_type": "code",
   "execution_count": 10,
   "metadata": {},
   "outputs": [
    {
     "name": "stdout",
     "output_type": "stream",
     "text": [
      "[0.07670455 0.40625    0.51704545]\n"
     ]
    }
   ],
   "source": [
    "eigvals, eigvecs = linalg.eig(transition_matrix)\n",
    "q = eigvecs[:, np.argmax(np.abs(eigvals))] / np.sum(eigvecs[:, np.argmax(np.abs(eigvals))])\n",
    "print(q)"
   ]
  },
  {
   "cell_type": "code",
   "execution_count": 12,
   "metadata": {},
   "outputs": [
    {
     "name": "stdout",
     "output_type": "stream",
     "text": [
      "[ 2  5 24] [ 2.37784091 12.59375    16.02840909]\n"
     ]
    }
   ],
   "source": [
    "equake_May = pd.read_csv(\"Seismic activity_May.csv\", usecols=np.arange(7), parse_dates=[\"Orgin date\"])\n",
    "equake_May_daily_mag_max = equake_May.groupby(equake_May[\"Orgin date\"].dt.day)[\"Magnitude\"].max()\n",
    "equake_May_states = (equake_May_daily_mag_max.apply(classify_mag)).values\n",
    "May_counts = np.bincount(equake_May_states)\n",
    "May_expected_counts_from_Markov = q*31\n",
    "print(May_counts, May_expected_counts_from_Markov)"
   ]
  },
  {
   "cell_type": "code",
   "execution_count": 13,
   "metadata": {},
   "outputs": [
    {
     "name": "stdout",
     "output_type": "stream",
     "text": [
      "Power_divergenceResult(statistic=8.603502829309274, pvalue=0.01354481563742123)\n"
     ]
    }
   ],
   "source": [
    "from scipy.stats import chisquare\n",
    "print(chisquare(f_obs=May_counts, f_exp=May_expected_counts_from_Markov))    "
   ]
  }
 ],
 "metadata": {
  "kernelspec": {
   "display_name": "base",
   "language": "python",
   "name": "python3"
  },
  "language_info": {
   "codemirror_mode": {
    "name": "ipython",
    "version": 3
   },
   "file_extension": ".py",
   "mimetype": "text/x-python",
   "name": "python",
   "nbconvert_exporter": "python",
   "pygments_lexer": "ipython3",
   "version": "3.12.4"
  }
 },
 "nbformat": 4,
 "nbformat_minor": 2
}
