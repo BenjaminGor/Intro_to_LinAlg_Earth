{
 "cells": [
  {
   "cell_type": "code",
   "execution_count": 5,
   "metadata": {},
   "outputs": [],
   "source": [
    "import numpy as np\n",
    "from scipy import linalg\n",
    "import sympy"
   ]
  },
  {
   "cell_type": "code",
   "execution_count": 3,
   "metadata": {},
   "outputs": [
    {
     "name": "stdout",
     "output_type": "stream",
     "text": [
      "[ 1. -0. -1.]\n"
     ]
    }
   ],
   "source": [
    "A1 = np.array([[1., 0., 1.],\n",
    "               [2., 2., 3.],\n",
    "               [1., 2., 0.]])\n",
    "h = np.array([0., -1., 1.])\n",
    "x = linalg.solve(A1,h)\n",
    "print(x)"
   ]
  },
  {
   "cell_type": "code",
   "execution_count": null,
   "metadata": {},
   "outputs": [
    {
     "ename": "LinAlgError",
     "evalue": "Matrix is singular.",
     "output_type": "error",
     "traceback": [
      "\u001b[1;31m---------------------------------------------------------------------------\u001b[0m",
      "\u001b[1;31mLinAlgError\u001b[0m                               Traceback (most recent call last)",
      "Cell \u001b[1;32mIn[4], line 6\u001b[0m\n\u001b[0;32m      1\u001b[0m A2 \u001b[38;5;241m=\u001b[39m np\u001b[38;5;241m.\u001b[39marray([[\u001b[38;5;241m3.\u001b[39m,  \u001b[38;5;241m1.\u001b[39m,  \u001b[38;5;241m3.\u001b[39m, \u001b[38;5;241m2.\u001b[39m],\n\u001b[0;32m      2\u001b[0m                [\u001b[38;5;241m0.\u001b[39m, \u001b[38;5;241m-\u001b[39m\u001b[38;5;241m1.\u001b[39m, \u001b[38;5;241m-\u001b[39m\u001b[38;5;241m3.\u001b[39m, \u001b[38;5;241m1.\u001b[39m],\n\u001b[0;32m      3\u001b[0m                [\u001b[38;5;241m1.\u001b[39m, \u001b[38;5;241m-\u001b[39m\u001b[38;5;241m1.\u001b[39m, \u001b[38;5;241m-\u001b[39m\u001b[38;5;241m2.\u001b[39m, \u001b[38;5;241m0.\u001b[39m],\n\u001b[0;32m      4\u001b[0m                [\u001b[38;5;241m2.\u001b[39m,  \u001b[38;5;241m0.\u001b[39m,  \u001b[38;5;241m1.\u001b[39m, \u001b[38;5;241m0.\u001b[39m]]) \u001b[38;5;66;03m# \"myMatrix3\" in the last chapter\u001b[39;00m\n\u001b[0;32m      5\u001b[0m h \u001b[38;5;241m=\u001b[39m np\u001b[38;5;241m.\u001b[39marray([\u001b[38;5;241m0.\u001b[39m, \u001b[38;5;241m1.\u001b[39m, \u001b[38;5;241m1.\u001b[39m, \u001b[38;5;241m-\u001b[39m\u001b[38;5;241m1.\u001b[39m])\n\u001b[1;32m----> 6\u001b[0m x \u001b[38;5;241m=\u001b[39m linalg\u001b[38;5;241m.\u001b[39msolve(A2,h)      \n\u001b[0;32m      7\u001b[0m \u001b[38;5;28mprint\u001b[39m(x)\n",
      "File \u001b[1;32mc:\\Users\\ben19\\anaconda3\\Lib\\site-packages\\scipy\\linalg\\_basic.py:219\u001b[0m, in \u001b[0;36msolve\u001b[1;34m(a, b, lower, overwrite_a, overwrite_b, check_finite, assume_a, transposed)\u001b[0m\n\u001b[0;32m    216\u001b[0m gecon, getrf, getrs \u001b[38;5;241m=\u001b[39m get_lapack_funcs((\u001b[38;5;124m'\u001b[39m\u001b[38;5;124mgecon\u001b[39m\u001b[38;5;124m'\u001b[39m, \u001b[38;5;124m'\u001b[39m\u001b[38;5;124mgetrf\u001b[39m\u001b[38;5;124m'\u001b[39m, \u001b[38;5;124m'\u001b[39m\u001b[38;5;124mgetrs\u001b[39m\u001b[38;5;124m'\u001b[39m),\n\u001b[0;32m    217\u001b[0m                                        (a1, b1))\n\u001b[0;32m    218\u001b[0m lu, ipvt, info \u001b[38;5;241m=\u001b[39m getrf(a1, overwrite_a\u001b[38;5;241m=\u001b[39moverwrite_a)\n\u001b[1;32m--> 219\u001b[0m _solve_check(n, info)\n\u001b[0;32m    220\u001b[0m x, info \u001b[38;5;241m=\u001b[39m getrs(lu, ipvt, b1,\n\u001b[0;32m    221\u001b[0m                 trans\u001b[38;5;241m=\u001b[39mtrans, overwrite_b\u001b[38;5;241m=\u001b[39moverwrite_b)\n\u001b[0;32m    222\u001b[0m _solve_check(n, info)\n",
      "File \u001b[1;32mc:\\Users\\ben19\\anaconda3\\Lib\\site-packages\\scipy\\linalg\\_basic.py:41\u001b[0m, in \u001b[0;36m_solve_check\u001b[1;34m(n, info, lamch, rcond)\u001b[0m\n\u001b[0;32m     39\u001b[0m     \u001b[38;5;28;01mraise\u001b[39;00m \u001b[38;5;167;01mValueError\u001b[39;00m(\u001b[38;5;124mf\u001b[39m\u001b[38;5;124m'\u001b[39m\u001b[38;5;124mLAPACK reported an illegal value in \u001b[39m\u001b[38;5;132;01m{\u001b[39;00m\u001b[38;5;241m-\u001b[39minfo\u001b[38;5;132;01m}\u001b[39;00m\u001b[38;5;124m-th argument.\u001b[39m\u001b[38;5;124m'\u001b[39m)\n\u001b[0;32m     40\u001b[0m \u001b[38;5;28;01melif\u001b[39;00m \u001b[38;5;241m0\u001b[39m \u001b[38;5;241m<\u001b[39m info:\n\u001b[1;32m---> 41\u001b[0m     \u001b[38;5;28;01mraise\u001b[39;00m LinAlgError(\u001b[38;5;124m'\u001b[39m\u001b[38;5;124mMatrix is singular.\u001b[39m\u001b[38;5;124m'\u001b[39m)\n\u001b[0;32m     43\u001b[0m \u001b[38;5;28;01mif\u001b[39;00m lamch \u001b[38;5;129;01mis\u001b[39;00m \u001b[38;5;28;01mNone\u001b[39;00m:\n\u001b[0;32m     44\u001b[0m     \u001b[38;5;28;01mreturn\u001b[39;00m\n",
      "\u001b[1;31mLinAlgError\u001b[0m: Matrix is singular."
     ]
    }
   ],
   "source": [
    "A2 = np.array([[3.,  1.,  3., 2.],\n",
    "               [0., -1., -3., 1.],\n",
    "               [1., -1., -2., 0.],\n",
    "               [2.,  0.,  1., 0.]]) # \"myMatrix3\" in the last chapter\n",
    "h = np.array([0., 1., 1., -1.])\n",
    "x = linalg.solve(A2,h)      \n",
    "print(x) # Fixed in newer versions"
   ]
  },
  {
   "cell_type": "code",
   "execution_count": 6,
   "metadata": {},
   "outputs": [
    {
     "ename": "NonInvertibleMatrixError",
     "evalue": "Matrix det == 0; not invertible.",
     "output_type": "error",
     "traceback": [
      "\u001b[1;31m---------------------------------------------------------------------------\u001b[0m",
      "\u001b[1;31mValueError\u001b[0m                                Traceback (most recent call last)",
      "File \u001b[1;32mc:\\Users\\ben19\\anaconda3\\Lib\\site-packages\\sympy\\matrices\\solvers.py:751\u001b[0m, in \u001b[0;36m_solve\u001b[1;34m(M, rhs, method)\u001b[0m\n\u001b[0;32m    750\u001b[0m \u001b[38;5;28;01mtry\u001b[39;00m:\n\u001b[1;32m--> 751\u001b[0m     soln, param \u001b[38;5;241m=\u001b[39m M\u001b[38;5;241m.\u001b[39mgauss_jordan_solve(rhs)\n\u001b[0;32m    753\u001b[0m     \u001b[38;5;28;01mif\u001b[39;00m param:\n",
      "File \u001b[1;32mc:\\Users\\ben19\\anaconda3\\Lib\\site-packages\\sympy\\matrices\\matrices.py:2138\u001b[0m, in \u001b[0;36mMatrixBase.gauss_jordan_solve\u001b[1;34m(self, B, freevar)\u001b[0m\n\u001b[0;32m   2137\u001b[0m \u001b[38;5;28;01mdef\u001b[39;00m \u001b[38;5;21mgauss_jordan_solve\u001b[39m(\u001b[38;5;28mself\u001b[39m, B, freevar\u001b[38;5;241m=\u001b[39m\u001b[38;5;28;01mFalse\u001b[39;00m):\n\u001b[1;32m-> 2138\u001b[0m     \u001b[38;5;28;01mreturn\u001b[39;00m _gauss_jordan_solve(\u001b[38;5;28mself\u001b[39m, B, freevar\u001b[38;5;241m=\u001b[39mfreevar)\n",
      "File \u001b[1;32mc:\\Users\\ben19\\anaconda3\\Lib\\site-packages\\sympy\\matrices\\solvers.py:580\u001b[0m, in \u001b[0;36m_gauss_jordan_solve\u001b[1;34m(M, B, freevar)\u001b[0m\n\u001b[0;32m    579\u001b[0m \u001b[38;5;28;01mif\u001b[39;00m \u001b[38;5;129;01mnot\u001b[39;00m v[rank:, :]\u001b[38;5;241m.\u001b[39mis_zero_matrix:\n\u001b[1;32m--> 580\u001b[0m     \u001b[38;5;28;01mraise\u001b[39;00m \u001b[38;5;167;01mValueError\u001b[39;00m(\u001b[38;5;124m\"\u001b[39m\u001b[38;5;124mLinear system has no solution\u001b[39m\u001b[38;5;124m\"\u001b[39m)\n\u001b[0;32m    582\u001b[0m \u001b[38;5;66;03m# Free parameters\u001b[39;00m\n\u001b[0;32m    583\u001b[0m \u001b[38;5;66;03m# what are current unnumbered free symbol names?\u001b[39;00m\n",
      "\u001b[1;31mValueError\u001b[0m: Linear system has no solution",
      "\nDuring handling of the above exception, another exception occurred:\n",
      "\u001b[1;31mNonInvertibleMatrixError\u001b[0m                  Traceback (most recent call last)",
      "Cell \u001b[1;32mIn[6], line 3\u001b[0m\n\u001b[0;32m      1\u001b[0m A2_sympy \u001b[38;5;241m=\u001b[39m sympy\u001b[38;5;241m.\u001b[39mMatrix(A2)\n\u001b[0;32m      2\u001b[0m h_sympy \u001b[38;5;241m=\u001b[39m sympy\u001b[38;5;241m.\u001b[39mMatrix(h)\n\u001b[1;32m----> 3\u001b[0m A2_sympy\u001b[38;5;241m.\u001b[39msolve(h_sympy)\n",
      "File \u001b[1;32mc:\\Users\\ben19\\anaconda3\\Lib\\site-packages\\sympy\\matrices\\matrices.py:2144\u001b[0m, in \u001b[0;36mMatrixBase.solve\u001b[1;34m(self, rhs, method)\u001b[0m\n\u001b[0;32m   2143\u001b[0m \u001b[38;5;28;01mdef\u001b[39;00m \u001b[38;5;21msolve\u001b[39m(\u001b[38;5;28mself\u001b[39m, rhs, method\u001b[38;5;241m=\u001b[39m\u001b[38;5;124m'\u001b[39m\u001b[38;5;124mGJ\u001b[39m\u001b[38;5;124m'\u001b[39m):\n\u001b[1;32m-> 2144\u001b[0m     \u001b[38;5;28;01mreturn\u001b[39;00m _solve(\u001b[38;5;28mself\u001b[39m, rhs, method\u001b[38;5;241m=\u001b[39mmethod)\n",
      "File \u001b[1;32mc:\\Users\\ben19\\anaconda3\\Lib\\site-packages\\sympy\\matrices\\solvers.py:758\u001b[0m, in \u001b[0;36m_solve\u001b[1;34m(M, rhs, method)\u001b[0m\n\u001b[0;32m    754\u001b[0m             \u001b[38;5;28;01mraise\u001b[39;00m NonInvertibleMatrixError(\u001b[38;5;124m\"\u001b[39m\u001b[38;5;124mMatrix det == 0; not invertible. \u001b[39m\u001b[38;5;124m\"\u001b[39m\n\u001b[0;32m    755\u001b[0m             \u001b[38;5;124m\"\u001b[39m\u001b[38;5;124mTry ``M.gauss_jordan_solve(rhs)`` to obtain a parametric solution.\u001b[39m\u001b[38;5;124m\"\u001b[39m)\n\u001b[0;32m    757\u001b[0m     \u001b[38;5;28;01mexcept\u001b[39;00m \u001b[38;5;167;01mValueError\u001b[39;00m:\n\u001b[1;32m--> 758\u001b[0m         \u001b[38;5;28;01mraise\u001b[39;00m NonInvertibleMatrixError(\u001b[38;5;124m\"\u001b[39m\u001b[38;5;124mMatrix det == 0; not invertible.\u001b[39m\u001b[38;5;124m\"\u001b[39m)\n\u001b[0;32m    760\u001b[0m     \u001b[38;5;28;01mreturn\u001b[39;00m soln\n\u001b[0;32m    762\u001b[0m \u001b[38;5;28;01melif\u001b[39;00m method \u001b[38;5;241m==\u001b[39m \u001b[38;5;124m'\u001b[39m\u001b[38;5;124mLU\u001b[39m\u001b[38;5;124m'\u001b[39m:\n",
      "\u001b[1;31mNonInvertibleMatrixError\u001b[0m: Matrix det == 0; not invertible."
     ]
    }
   ],
   "source": [
    "A2_sympy = sympy.Matrix(A2)\n",
    "h_sympy = sympy.Matrix(h)\n",
    "A2_sympy.solve(h_sympy)"
   ]
  },
  {
   "cell_type": "code",
   "execution_count": 7,
   "metadata": {},
   "outputs": [
    {
     "name": "stdout",
     "output_type": "stream",
     "text": [
      "{(-3.0*tau0 - 2.0*tau1 - 1.0, 1.0*tau0 + 1.0*tau1 + 1.0, tau0, tau1)}\n"
     ]
    }
   ],
   "source": [
    "A3_sympy = sympy.Matrix([[1., 1., 2., 1.],\n",
    "                         [1., 2., 1., 0.],\n",
    "                         [1., 0., 3., 2.]])\n",
    "h_sympy = sympy.Matrix(([0., 1., -1.]))\n",
    "\n",
    "print(sympy.linsolve([A3_sympy,h_sympy]))    "
   ]
  }
 ],
 "metadata": {
  "kernelspec": {
   "display_name": "base",
   "language": "python",
   "name": "python3"
  },
  "language_info": {
   "codemirror_mode": {
    "name": "ipython",
    "version": 3
   },
   "file_extension": ".py",
   "mimetype": "text/x-python",
   "name": "python",
   "nbconvert_exporter": "python",
   "pygments_lexer": "ipython3",
   "version": "3.12.4"
  }
 },
 "nbformat": 4,
 "nbformat_minor": 2
}
