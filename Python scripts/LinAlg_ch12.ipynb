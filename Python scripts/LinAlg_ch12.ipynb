{
 "cells": [
  {
   "cell_type": "code",
   "execution_count": 1,
   "metadata": {},
   "outputs": [],
   "source": [
    "import numpy as np"
   ]
  },
  {
   "cell_type": "code",
   "execution_count": 2,
   "metadata": {},
   "outputs": [],
   "source": [
    "def real_inner_prod(u, v, B):\n",
    "    if np.all(B == B.T): # Check if symmetric\n",
    "        return(u @ B @ v)\n",
    "    else:\n",
    "        print(\"Not symmetric bilinear form!\")\n",
    "        return(None)"
   ]
  },
  {
   "cell_type": "code",
   "execution_count": 3,
   "metadata": {},
   "outputs": [
    {
     "name": "stdout",
     "output_type": "stream",
     "text": [
      "2.0\n"
     ]
    }
   ],
   "source": [
    "u = np.array([1., 0., 1.])\n",
    "v = np.array([0., 2., -1.])\n",
    "B = np.array([[2., 1., 0.],  \n",
    "              [1., 2., 1.],\n",
    "              [0., 1., 2.]])\n",
    "\n",
    "print(real_inner_prod(u,v,B)) "
   ]
  },
  {
   "cell_type": "code",
   "execution_count": 4,
   "metadata": {},
   "outputs": [],
   "source": [
    "def norm(v, B):\n",
    "    return(np.sqrt(real_inner_prod(v, v, B)))"
   ]
  },
  {
   "cell_type": "code",
   "execution_count": 5,
   "metadata": {},
   "outputs": [],
   "source": [
    "def GS_inner_prod(vecs, B):\n",
    "    \"\"\"\n",
    "    Gram-Schmidt Orthogonalization with respect to an inner product (finite-dimensional)\n",
    "    vecs: A list containing the vectors\n",
    "    B: The symmetric matrix for the inner product\n",
    "    \"\"\"\n",
    "    n_vecs = len(vecs)\n",
    "    for jj in np.arange(n_vecs):\n",
    "        for ii in np.arange(jj):\n",
    "            vecs[jj] -= real_inner_prod(vecs[jj], vecs[ii], B) / norm(vecs[ii], B)**2 * vecs[ii]\n",
    "    return(vecs)"
   ]
  },
  {
   "cell_type": "code",
   "execution_count": 6,
   "metadata": {},
   "outputs": [
    {
     "name": "stdout",
     "output_type": "stream",
     "text": [
      "[array([1., 0., 0.]), array([-0.5,  1. ,  0. ]), array([ 0.33333333, -0.66666667,  1.        ])]\n"
     ]
    }
   ],
   "source": [
    "vecs = [np.array([1.,0.,0.]), \n",
    "        np.array([0.,1.,0.]), \n",
    "        np.array([0.,0.,1.])]\n",
    "\n",
    "print(GS_inner_prod(vecs, B))"
   ]
  }
 ],
 "metadata": {
  "kernelspec": {
   "display_name": "base",
   "language": "python",
   "name": "python3"
  },
  "language_info": {
   "codemirror_mode": {
    "name": "ipython",
    "version": 3
   },
   "file_extension": ".py",
   "mimetype": "text/x-python",
   "name": "python",
   "nbconvert_exporter": "python",
   "pygments_lexer": "ipython3",
   "version": "3.12.4"
  }
 },
 "nbformat": 4,
 "nbformat_minor": 2
}
