{
 "cells": [
  {
   "cell_type": "code",
   "execution_count": 1,
   "metadata": {},
   "outputs": [],
   "source": [
    "import numpy as np"
   ]
  },
  {
   "cell_type": "code",
   "execution_count": 2,
   "metadata": {},
   "outputs": [
    {
     "name": "stdout",
     "output_type": "stream",
     "text": [
      "[[1 4]\n",
      " [5 3]]\n"
     ]
    }
   ],
   "source": [
    "myMatrix1 = np.array([[1, 4], [5, 3]])\n",
    "print(myMatrix1)"
   ]
  },
  {
   "cell_type": "code",
   "execution_count": null,
   "metadata": {},
   "outputs": [
    {
     "name": "stdout",
     "output_type": "stream",
     "text": [
      "[[ -1   0]\n",
      " [ -5 -15]]\n"
     ]
    }
   ],
   "source": [
    "myMatrix2 = np.array([[1, 3], [5, 6]])\n",
    "myMatrix3 = 3*myMatrix1 - 4*myMatrix2\n",
    "print(myMatrix3)"
   ]
  },
  {
   "cell_type": "code",
   "execution_count": 5,
   "metadata": {},
   "outputs": [
    {
     "name": "stdout",
     "output_type": "stream",
     "text": [
      "[[21 27]\n",
      " [20 33]]\n"
     ]
    }
   ],
   "source": [
    "myMatrix4 = np.matmul(myMatrix1, myMatrix2) # or equivalently myMatrix1 @ myMatrix2\n",
    "print(myMatrix4)"
   ]
  },
  {
   "cell_type": "code",
   "execution_count": 7,
   "metadata": {},
   "outputs": [
    {
     "name": "stdout",
     "output_type": "stream",
     "text": [
      "20\n",
      "[-1  0]\n",
      "[27 33]\n"
     ]
    }
   ],
   "source": [
    "print(myMatrix4[1,0])\n",
    "print(myMatrix3[0,:])\n",
    "print(myMatrix4[:,1])"
   ]
  },
  {
   "cell_type": "code",
   "execution_count": 8,
   "metadata": {},
   "outputs": [
    {
     "name": "stdout",
     "output_type": "stream",
     "text": [
      "[[ 7  9]\n",
      " [20 33]]\n"
     ]
    }
   ],
   "source": [
    "myMatrix5 = np.copy(myMatrix4)\n",
    "myMatrix5[0,:] = myMatrix5[0,:]/3\n",
    "print(myMatrix5)"
   ]
  },
  {
   "cell_type": "code",
   "execution_count": 9,
   "metadata": {},
   "outputs": [
    {
     "name": "stdout",
     "output_type": "stream",
     "text": [
      "[[ 7  9]\n",
      " [ 6 15]]\n"
     ]
    }
   ],
   "source": [
    "myMatrix5[1,:] = myMatrix5[1,:] - 2*myMatrix5[0,:]\n",
    "print(myMatrix5)"
   ]
  },
  {
   "cell_type": "code",
   "execution_count": 10,
   "metadata": {},
   "outputs": [
    {
     "name": "stdout",
     "output_type": "stream",
     "text": [
      "[[20 33]\n",
      " [21 27]]\n"
     ]
    }
   ],
   "source": [
    "myMatrix6 = np.copy(myMatrix4)\n",
    "myMatrix6[[0, 1],:] = myMatrix6[[1, 0],:]\n",
    "print(myMatrix6)"
   ]
  },
  {
   "cell_type": "code",
   "execution_count": null,
   "metadata": {},
   "outputs": [
    {
     "name": "stdout",
     "output_type": "stream",
     "text": [
      "[[1. 4.]\n",
      " [5. 3.]]\n"
     ]
    }
   ],
   "source": [
    "myMatrix1_fl = np.array([[1, 4], [5, 3]], dtype=float) # or myMatrix1_fl = np.array([[1., 4.], [5., 3.]])\n",
    "print(myMatrix1_fl)"
   ]
  }
 ],
 "metadata": {
  "kernelspec": {
   "display_name": "base",
   "language": "python",
   "name": "python3"
  },
  "language_info": {
   "codemirror_mode": {
    "name": "ipython",
    "version": 3
   },
   "file_extension": ".py",
   "mimetype": "text/x-python",
   "name": "python",
   "nbconvert_exporter": "python",
   "pygments_lexer": "ipython3",
   "version": "3.12.4"
  }
 },
 "nbformat": 4,
 "nbformat_minor": 2
}
