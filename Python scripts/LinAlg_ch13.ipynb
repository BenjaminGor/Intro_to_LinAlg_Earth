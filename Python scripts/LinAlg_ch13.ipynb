{
 "cells": [
  {
   "cell_type": "code",
   "execution_count": 1,
   "metadata": {},
   "outputs": [],
   "source": [
    "import numpy as np\n",
    "import statsmodels.api as sm"
   ]
  },
  {
   "cell_type": "code",
   "execution_count": 2,
   "metadata": {},
   "outputs": [],
   "source": [
    "X = np.array([[104, 5.2],\n",
    "              [111, 6.1],\n",
    "              [107, 8.3],\n",
    "              [106, 3.4],\n",
    "              [109, 9.6]]) \n",
    "Y = np.array([3.56, 3.71, 3.73, 3.34, 3.88])"
   ]
  },
  {
   "cell_type": "code",
   "execution_count": 3,
   "metadata": {},
   "outputs": [],
   "source": [
    "Xc = sm.add_constant(X, prepend=False)"
   ]
  },
  {
   "cell_type": "code",
   "execution_count": 4,
   "metadata": {},
   "outputs": [],
   "source": [
    "mod = sm.OLS(Y, Xc)\n",
    "res = mod.fit()"
   ]
  },
  {
   "cell_type": "code",
   "execution_count": 5,
   "metadata": {},
   "outputs": [
    {
     "name": "stdout",
     "output_type": "stream",
     "text": [
      "                            OLS Regression Results                            \n",
      "==============================================================================\n",
      "Dep. Variable:                      y   R-squared:                       0.938\n",
      "Model:                            OLS   Adj. R-squared:                  0.875\n",
      "Method:                 Least Squares   F-statistic:                     15.04\n",
      "Date:                Sun, 16 Mar 2025   Prob (F-statistic):             0.0623\n",
      "Time:                        14:47:17   Log-Likelihood:                 8.3427\n",
      "No. Observations:                   5   AIC:                            -10.69\n",
      "Df Residuals:                       2   BIC:                            -11.86\n",
      "Df Model:                           2                                         \n",
      "Covariance Type:            nonrobust                                         \n",
      "==============================================================================\n",
      "                 coef    std err          t      P>|t|      [0.025      0.975]\n",
      "------------------------------------------------------------------------------\n",
      "x1             0.0162      0.015      1.090      0.389      -0.048       0.080\n",
      "x2             0.0710      0.016      4.370      0.049       0.001       0.141\n",
      "const          1.4463      1.548      0.934      0.449      -5.216       8.109\n",
      "==============================================================================\n",
      "Omnibus:                          nan   Durbin-Watson:                   0.883\n",
      "Prob(Omnibus):                    nan   Jarque-Bera (JB):                0.451\n",
      "Skew:                           0.142   Prob(JB):                        0.798\n",
      "Kurtosis:                       1.556   Cond. No.                     5.17e+03\n",
      "==============================================================================\n",
      "\n",
      "Notes:\n",
      "[1] Standard Errors assume that the covariance matrix of the errors is correctly specified.\n",
      "[2] The condition number is large, 5.17e+03. This might indicate that there are\n",
      "strong multicollinearity or other numerical problems.\n"
     ]
    },
    {
     "name": "stderr",
     "output_type": "stream",
     "text": [
      "c:\\Users\\ben19\\anaconda3\\Lib\\site-packages\\statsmodels\\stats\\stattools.py:74: ValueWarning: omni_normtest is not valid with less than 8 observations; 5 samples were given.\n",
      "  warn(\"omni_normtest is not valid with less than 8 observations; %i \"\n"
     ]
    }
   ],
   "source": [
    "print(res.summary())"
   ]
  },
  {
   "cell_type": "code",
   "execution_count": 6,
   "metadata": {},
   "outputs": [
    {
     "name": "stdout",
     "output_type": "stream",
     "text": [
      "[3.4954085  3.67235546 3.76384338 3.39999389 3.88839878]\n"
     ]
    }
   ],
   "source": [
    "print(res.predict(Xc))"
   ]
  }
 ],
 "metadata": {
  "kernelspec": {
   "display_name": "base",
   "language": "python",
   "name": "python3"
  },
  "language_info": {
   "codemirror_mode": {
    "name": "ipython",
    "version": 3
   },
   "file_extension": ".py",
   "mimetype": "text/x-python",
   "name": "python",
   "nbconvert_exporter": "python",
   "pygments_lexer": "ipython3",
   "version": "3.12.4"
  }
 },
 "nbformat": 4,
 "nbformat_minor": 2
}
