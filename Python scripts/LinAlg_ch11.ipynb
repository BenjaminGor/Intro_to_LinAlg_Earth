{
 "cells": [
  {
   "cell_type": "code",
   "execution_count": 1,
   "metadata": {},
   "outputs": [],
   "source": [
    "import numpy as np\n",
    "import sympy"
   ]
  },
  {
   "cell_type": "code",
   "execution_count": null,
   "metadata": {},
   "outputs": [
    {
     "name": "stdout",
     "output_type": "stream",
     "text": [
      "True\n",
      "Matrix([[1.00000000000000, 0, 0], [0, 0.707106781186548, -0.707106781186548], [0, -0.707106781186548, -0.707106781186548]]) Matrix([[1.00000000000000, 0, 0], [0, 1.00000000000000, 0], [0, 0, 3.00000000000000]])\n"
     ]
    }
   ],
   "source": [
    "A1 = np.array([[1., 0., 0.],\n",
    "               [0., 2., 1.],\n",
    "               [0., 1., 2.]])\n",
    "A1_sympy = sympy.Matrix(A1)\n",
    "print(A1_sympy.is_symmetric())\n",
    "P, D1 = A1_sympy.diagonalize()\n",
    "print(P, D1)"
   ]
  },
  {
   "cell_type": "code",
   "execution_count": 3,
   "metadata": {},
   "outputs": [
    {
     "name": "stdout",
     "output_type": "stream",
     "text": [
      "True\n"
     ]
    }
   ],
   "source": [
    "print(np.allclose(np.array(P.T @ P, dtype=float), np.identity(3))) # True"
   ]
  },
  {
   "cell_type": "code",
   "execution_count": 4,
   "metadata": {},
   "outputs": [
    {
     "name": "stdout",
     "output_type": "stream",
     "text": [
      "True\n"
     ]
    }
   ],
   "source": [
    "A2 = np.array([[5/3 - (1/3)*1j, 1/3 + 1j],\n",
    "               [-1 + (1/3)*1j, 4/3 + (1/3)*1j]])\n",
    "\n",
    "print(np.allclose(np.conjugate(A2).T @ A2, A2 @ np.conjugate(A2).T))"
   ]
  },
  {
   "cell_type": "code",
   "execution_count": 5,
   "metadata": {},
   "outputs": [
    {
     "name": "stdout",
     "output_type": "stream",
     "text": [
      "Matrix([[-0.489897948556636 - 0.653197264742181*I, 0.0816496580927727 + 0.571547606649408*I], [-0.0816496580927726 + 0.571547606649408*I, -0.489897948556636 + 0.653197264742181*I]]) Matrix([[2.0 - 1.0*I, 0], [0, 1.0 + 1.0*I]])\n",
      "True\n"
     ]
    }
   ],
   "source": [
    "A2_sympy = sympy.Matrix(A2)\n",
    "\n",
    "U, D = A2_sympy.diagonalize()\n",
    "print(U, D)\n",
    "print(np.allclose(np.array(U.H @ U, dtype=complex), np.identity(2)))"
   ]
  },
  {
   "cell_type": "code",
   "execution_count": 6,
   "metadata": {},
   "outputs": [
    {
     "name": "stdout",
     "output_type": "stream",
     "text": [
      "[[-0.33333333+3.33333333e-01j  0.33333333-2.58092536e-18j]\n",
      " [ 0.33333333-3.97842146e-19j  0.33333333+3.33333333e-01j]]\n"
     ]
    }
   ],
   "source": [
    "U_np = np.array(U, dtype=complex)\n",
    "U_np[:,0] = U_np[:,0] * np.conjugate(U_np[1,0])\n",
    "U_np[:,1] = U_np[:,1] * np.conjugate(U_np[0,1])\n",
    "print(U_np)"
   ]
  }
 ],
 "metadata": {
  "kernelspec": {
   "display_name": "base",
   "language": "python",
   "name": "python3"
  },
  "language_info": {
   "codemirror_mode": {
    "name": "ipython",
    "version": 3
   },
   "file_extension": ".py",
   "mimetype": "text/x-python",
   "name": "python",
   "nbconvert_exporter": "python",
   "pygments_lexer": "ipython3",
   "version": "3.12.4"
  }
 },
 "nbformat": 4,
 "nbformat_minor": 2
}
