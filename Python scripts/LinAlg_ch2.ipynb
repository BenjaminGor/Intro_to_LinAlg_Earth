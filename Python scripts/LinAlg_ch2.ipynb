{
 "cells": [
  {
   "cell_type": "code",
   "execution_count": 15,
   "metadata": {},
   "outputs": [],
   "source": [
    "import numpy as np\n",
    "from scipy import linalg\n",
    "import sympy"
   ]
  },
  {
   "cell_type": "code",
   "execution_count": 2,
   "metadata": {},
   "outputs": [
    {
     "name": "stdout",
     "output_type": "stream",
     "text": [
      "[[1. 0. 0. 0.]\n",
      " [0. 1. 0. 0.]\n",
      " [0. 0. 1. 0.]\n",
      " [0. 0. 0. 1.]]\n"
     ]
    }
   ],
   "source": [
    "I4 = np.identity(4)\n",
    "print(I4)"
   ]
  },
  {
   "cell_type": "code",
   "execution_count": 3,
   "metadata": {},
   "outputs": [
    {
     "name": "stdout",
     "output_type": "stream",
     "text": [
      "[[ 1.  0.  3.]\n",
      " [ 1.  4.  1.]\n",
      " [-1.  2.  4.]]\n",
      "[[ 1.  1. -1.]\n",
      " [ 0.  4.  2.]\n",
      " [ 3.  1.  4.]]\n"
     ]
    }
   ],
   "source": [
    "myMatrix1 = np.array([[1.,  0., 3.],\n",
    "                      [1.,  4., 1.],\n",
    "                      [-1., 2., 4.]])\n",
    "print(myMatrix1)\n",
    "print(myMatrix1.T)"
   ]
  },
  {
   "cell_type": "code",
   "execution_count": 5,
   "metadata": {},
   "outputs": [
    {
     "name": "stdout",
     "output_type": "stream",
     "text": [
      "[[ 0.4375   0.1875  -0.375  ]\n",
      " [-0.15625  0.21875  0.0625 ]\n",
      " [ 0.1875  -0.0625   0.125  ]]\n",
      "[[1. 0. 0.]\n",
      " [0. 1. 0.]\n",
      " [0. 0. 1.]]\n"
     ]
    }
   ],
   "source": [
    "myMatrix2 = linalg.inv(myMatrix1)\n",
    "print(myMatrix2)\n",
    "print(myMatrix1 @ myMatrix2) # Check: should give the identity"
   ]
  },
  {
   "cell_type": "code",
   "execution_count": 6,
   "metadata": {},
   "outputs": [
    {
     "name": "stdout",
     "output_type": "stream",
     "text": [
      "32.0\n"
     ]
    }
   ],
   "source": [
    "print(linalg.det(myMatrix1))"
   ]
  },
  {
   "cell_type": "code",
   "execution_count": null,
   "metadata": {},
   "outputs": [
    {
     "name": "stdout",
     "output_type": "stream",
     "text": [
      "-8.326672684688673e-16\n"
     ]
    }
   ],
   "source": [
    "myMatrix3 = np.array([[3.,  1.,  3., 2.],\n",
    "                      [0., -1., -3., 1.],\n",
    "                      [1., -1., -2., 0.],\n",
    "                      [2.,  0.,  1., 0.]])\n",
    "print(linalg.det(myMatrix3))"
   ]
  },
  {
   "cell_type": "code",
   "execution_count": null,
   "metadata": {},
   "outputs": [
    {
     "ename": "LinAlgError",
     "evalue": "singular matrix",
     "output_type": "error",
     "traceback": [
      "\u001b[1;31m---------------------------------------------------------------------------\u001b[0m",
      "\u001b[1;31mLinAlgError\u001b[0m                               Traceback (most recent call last)",
      "Cell \u001b[1;32mIn[14], line 1\u001b[0m\n\u001b[1;32m----> 1\u001b[0m \u001b[38;5;28mprint\u001b[39m(linalg\u001b[38;5;241m.\u001b[39minv(myMatrix3))\n",
      "File \u001b[1;32mc:\\Users\\ben19\\anaconda3\\Lib\\site-packages\\scipy\\linalg\\_basic.py:960\u001b[0m, in \u001b[0;36minv\u001b[1;34m(a, overwrite_a, check_finite)\u001b[0m\n\u001b[0;32m    958\u001b[0m     inv_a, info \u001b[38;5;241m=\u001b[39m getri(lu, piv, lwork\u001b[38;5;241m=\u001b[39mlwork, overwrite_lu\u001b[38;5;241m=\u001b[39m\u001b[38;5;241m1\u001b[39m)\n\u001b[0;32m    959\u001b[0m \u001b[38;5;28;01mif\u001b[39;00m info \u001b[38;5;241m>\u001b[39m \u001b[38;5;241m0\u001b[39m:\n\u001b[1;32m--> 960\u001b[0m     \u001b[38;5;28;01mraise\u001b[39;00m LinAlgError(\u001b[38;5;124m\"\u001b[39m\u001b[38;5;124msingular matrix\u001b[39m\u001b[38;5;124m\"\u001b[39m)\n\u001b[0;32m    961\u001b[0m \u001b[38;5;28;01mif\u001b[39;00m info \u001b[38;5;241m<\u001b[39m \u001b[38;5;241m0\u001b[39m:\n\u001b[0;32m    962\u001b[0m     \u001b[38;5;28;01mraise\u001b[39;00m \u001b[38;5;167;01mValueError\u001b[39;00m(\u001b[38;5;124m'\u001b[39m\u001b[38;5;124millegal value in \u001b[39m\u001b[38;5;132;01m%d\u001b[39;00m\u001b[38;5;124m-th argument of internal \u001b[39m\u001b[38;5;124m'\u001b[39m\n\u001b[0;32m    963\u001b[0m                      \u001b[38;5;124m'\u001b[39m\u001b[38;5;124mgetrf|getri\u001b[39m\u001b[38;5;124m'\u001b[39m \u001b[38;5;241m%\u001b[39m \u001b[38;5;241m-\u001b[39minfo)\n",
      "\u001b[1;31mLinAlgError\u001b[0m: singular matrix"
     ]
    }
   ],
   "source": [
    "print(linalg.inv(myMatrix3)) # Fixed in newer versions"
   ]
  },
  {
   "cell_type": "code",
   "execution_count": null,
   "metadata": {},
   "outputs": [
    {
     "name": "stdout",
     "output_type": "stream",
     "text": [
      "(Matrix([\n",
      "[1, 0, -0.5],\n",
      "[0, 1,  1.0],\n",
      "[0, 0,    0],\n",
      "[0, 0,    0]]), (0, 1))\n"
     ]
    }
   ],
   "source": [
    "myMatrix4 = np.array([[2., 2., 1.],\n",
    "                      [6., 4., 1.],\n",
    "                      [2., 3., 2.],\n",
    "                      [2., 1., 0.]])\n",
    "myMatrix4_sympy = sympy.Matrix(myMatrix4) # Convert the numpy array to a sympy matrix\n",
    "print(myMatrix4_sympy.rref())"
   ]
  },
  {
   "cell_type": "code",
   "execution_count": 17,
   "metadata": {},
   "outputs": [
    {
     "ename": "NonInvertibleMatrixError",
     "evalue": "Matrix det == 0; not invertible.",
     "output_type": "error",
     "traceback": [
      "\u001b[1;31m---------------------------------------------------------------------------\u001b[0m",
      "\u001b[1;31mNonInvertibleMatrixError\u001b[0m                  Traceback (most recent call last)",
      "Cell \u001b[1;32mIn[17], line 2\u001b[0m\n\u001b[0;32m      1\u001b[0m myMatrix3_sympy \u001b[38;5;241m=\u001b[39m sympy\u001b[38;5;241m.\u001b[39mMatrix(myMatrix3)\n\u001b[1;32m----> 2\u001b[0m \u001b[38;5;28mprint\u001b[39m(myMatrix3_sympy\u001b[38;5;241m*\u001b[39m\u001b[38;5;241m*\u001b[39m(\u001b[38;5;241m-\u001b[39m\u001b[38;5;241m1\u001b[39m))\n",
      "File \u001b[1;32mc:\\Users\\ben19\\anaconda3\\Lib\\site-packages\\sympy\\core\\decorators.py:106\u001b[0m, in \u001b[0;36mcall_highest_priority.<locals>.priority_decorator.<locals>.binary_op_wrapper\u001b[1;34m(self, other)\u001b[0m\n\u001b[0;32m    104\u001b[0m         \u001b[38;5;28;01mif\u001b[39;00m f \u001b[38;5;129;01mis\u001b[39;00m \u001b[38;5;129;01mnot\u001b[39;00m \u001b[38;5;28;01mNone\u001b[39;00m:\n\u001b[0;32m    105\u001b[0m             \u001b[38;5;28;01mreturn\u001b[39;00m f(\u001b[38;5;28mself\u001b[39m)\n\u001b[1;32m--> 106\u001b[0m \u001b[38;5;28;01mreturn\u001b[39;00m func(\u001b[38;5;28mself\u001b[39m, other)\n",
      "File \u001b[1;32mc:\\Users\\ben19\\anaconda3\\Lib\\site-packages\\sympy\\matrices\\common.py:2780\u001b[0m, in \u001b[0;36mMatrixArithmetic.__pow__\u001b[1;34m(self, exp)\u001b[0m\n\u001b[0;32m   2776\u001b[0m \u001b[38;5;129m@call_highest_priority\u001b[39m(\u001b[38;5;124m'\u001b[39m\u001b[38;5;124m__rpow__\u001b[39m\u001b[38;5;124m'\u001b[39m)\n\u001b[0;32m   2777\u001b[0m \u001b[38;5;28;01mdef\u001b[39;00m \u001b[38;5;21m__pow__\u001b[39m(\u001b[38;5;28mself\u001b[39m, exp):\n\u001b[0;32m   2778\u001b[0m \u001b[38;5;250m    \u001b[39m\u001b[38;5;124;03m\"\"\"Return self**exp a scalar or symbol.\"\"\"\u001b[39;00m\n\u001b[1;32m-> 2780\u001b[0m     \u001b[38;5;28;01mreturn\u001b[39;00m \u001b[38;5;28mself\u001b[39m\u001b[38;5;241m.\u001b[39mpow(exp)\n",
      "File \u001b[1;32mc:\\Users\\ben19\\anaconda3\\Lib\\site-packages\\sympy\\matrices\\common.py:2824\u001b[0m, in \u001b[0;36mMatrixArithmetic.pow\u001b[1;34m(self, exp, method)\u001b[0m\n\u001b[0;32m   2822\u001b[0m     \u001b[38;5;28;01mif\u001b[39;00m exp \u001b[38;5;241m<\u001b[39m \u001b[38;5;241m0\u001b[39m:\n\u001b[0;32m   2823\u001b[0m         exp \u001b[38;5;241m=\u001b[39m \u001b[38;5;241m-\u001b[39mexp\n\u001b[1;32m-> 2824\u001b[0m         a \u001b[38;5;241m=\u001b[39m a\u001b[38;5;241m.\u001b[39minv()\n\u001b[0;32m   2825\u001b[0m \u001b[38;5;66;03m# When certain conditions are met,\u001b[39;00m\n\u001b[0;32m   2826\u001b[0m \u001b[38;5;66;03m# Jordan block algorithm is faster than\u001b[39;00m\n\u001b[0;32m   2827\u001b[0m \u001b[38;5;66;03m# computation by recursion.\u001b[39;00m\n\u001b[0;32m   2828\u001b[0m \u001b[38;5;28;01mif\u001b[39;00m method \u001b[38;5;241m==\u001b[39m \u001b[38;5;124m'\u001b[39m\u001b[38;5;124mjordan\u001b[39m\u001b[38;5;124m'\u001b[39m:\n",
      "File \u001b[1;32mc:\\Users\\ben19\\anaconda3\\Lib\\site-packages\\sympy\\matrices\\matrices.py:2177\u001b[0m, in \u001b[0;36mMatrixBase.inv\u001b[1;34m(self, method, iszerofunc, try_block_diag)\u001b[0m\n\u001b[0;32m   2176\u001b[0m \u001b[38;5;28;01mdef\u001b[39;00m \u001b[38;5;21minv\u001b[39m(\u001b[38;5;28mself\u001b[39m, method\u001b[38;5;241m=\u001b[39m\u001b[38;5;28;01mNone\u001b[39;00m, iszerofunc\u001b[38;5;241m=\u001b[39m_iszero, try_block_diag\u001b[38;5;241m=\u001b[39m\u001b[38;5;28;01mFalse\u001b[39;00m):\n\u001b[1;32m-> 2177\u001b[0m     \u001b[38;5;28;01mreturn\u001b[39;00m _inv(\u001b[38;5;28mself\u001b[39m, method\u001b[38;5;241m=\u001b[39mmethod, iszerofunc\u001b[38;5;241m=\u001b[39miszerofunc,\n\u001b[0;32m   2178\u001b[0m             try_block_diag\u001b[38;5;241m=\u001b[39mtry_block_diag)\n",
      "File \u001b[1;32mc:\\Users\\ben19\\anaconda3\\Lib\\site-packages\\sympy\\matrices\\inverse.py:459\u001b[0m, in \u001b[0;36m_inv\u001b[1;34m(M, method, iszerofunc, try_block_diag)\u001b[0m\n\u001b[0;32m    456\u001b[0m     \u001b[38;5;28;01mreturn\u001b[39;00m diag(\u001b[38;5;241m*\u001b[39mr)\n\u001b[0;32m    458\u001b[0m \u001b[38;5;28;01mif\u001b[39;00m method \u001b[38;5;241m==\u001b[39m \u001b[38;5;124m\"\u001b[39m\u001b[38;5;124mGE\u001b[39m\u001b[38;5;124m\"\u001b[39m:\n\u001b[1;32m--> 459\u001b[0m     rv \u001b[38;5;241m=\u001b[39m M\u001b[38;5;241m.\u001b[39minverse_GE(iszerofunc\u001b[38;5;241m=\u001b[39miszerofunc)\n\u001b[0;32m    460\u001b[0m \u001b[38;5;28;01melif\u001b[39;00m method \u001b[38;5;241m==\u001b[39m \u001b[38;5;124m\"\u001b[39m\u001b[38;5;124mLU\u001b[39m\u001b[38;5;124m\"\u001b[39m:\n\u001b[0;32m    461\u001b[0m     rv \u001b[38;5;241m=\u001b[39m M\u001b[38;5;241m.\u001b[39minverse_LU(iszerofunc\u001b[38;5;241m=\u001b[39miszerofunc)\n",
      "File \u001b[1;32mc:\\Users\\ben19\\anaconda3\\Lib\\site-packages\\sympy\\matrices\\matrices.py:2162\u001b[0m, in \u001b[0;36mMatrixBase.inverse_GE\u001b[1;34m(self, iszerofunc)\u001b[0m\n\u001b[0;32m   2161\u001b[0m \u001b[38;5;28;01mdef\u001b[39;00m \u001b[38;5;21minverse_GE\u001b[39m(\u001b[38;5;28mself\u001b[39m, iszerofunc\u001b[38;5;241m=\u001b[39m_iszero):\n\u001b[1;32m-> 2162\u001b[0m     \u001b[38;5;28;01mreturn\u001b[39;00m _inv_GE(\u001b[38;5;28mself\u001b[39m, iszerofunc\u001b[38;5;241m=\u001b[39miszerofunc)\n",
      "File \u001b[1;32mc:\\Users\\ben19\\anaconda3\\Lib\\site-packages\\sympy\\matrices\\inverse.py:245\u001b[0m, in \u001b[0;36m_inv_GE\u001b[1;34m(M, iszerofunc)\u001b[0m\n\u001b[0;32m    242\u001b[0m red \u001b[38;5;241m=\u001b[39m big\u001b[38;5;241m.\u001b[39mrref(iszerofunc\u001b[38;5;241m=\u001b[39miszerofunc, simplify\u001b[38;5;241m=\u001b[39m\u001b[38;5;28;01mTrue\u001b[39;00m)[\u001b[38;5;241m0\u001b[39m]\n\u001b[0;32m    244\u001b[0m \u001b[38;5;28;01mif\u001b[39;00m \u001b[38;5;28many\u001b[39m(iszerofunc(red[j, j]) \u001b[38;5;28;01mfor\u001b[39;00m j \u001b[38;5;129;01min\u001b[39;00m \u001b[38;5;28mrange\u001b[39m(red\u001b[38;5;241m.\u001b[39mrows)):\n\u001b[1;32m--> 245\u001b[0m     \u001b[38;5;28;01mraise\u001b[39;00m NonInvertibleMatrixError(\u001b[38;5;124m\"\u001b[39m\u001b[38;5;124mMatrix det == 0; not invertible.\u001b[39m\u001b[38;5;124m\"\u001b[39m)\n\u001b[0;32m    247\u001b[0m \u001b[38;5;28;01mreturn\u001b[39;00m M\u001b[38;5;241m.\u001b[39m_new(red[:, big\u001b[38;5;241m.\u001b[39mrows:])\n",
      "\u001b[1;31mNonInvertibleMatrixError\u001b[0m: Matrix det == 0; not invertible."
     ]
    }
   ],
   "source": [
    "myMatrix3_sympy = sympy.Matrix(myMatrix3)\n",
    "print(myMatrix3_sympy**(-1))"
   ]
  }
 ],
 "metadata": {
  "kernelspec": {
   "display_name": "base",
   "language": "python",
   "name": "python3"
  },
  "language_info": {
   "codemirror_mode": {
    "name": "ipython",
    "version": 3
   },
   "file_extension": ".py",
   "mimetype": "text/x-python",
   "name": "python",
   "nbconvert_exporter": "python",
   "pygments_lexer": "ipython3",
   "version": "3.12.4"
  }
 },
 "nbformat": 4,
 "nbformat_minor": 2
}
