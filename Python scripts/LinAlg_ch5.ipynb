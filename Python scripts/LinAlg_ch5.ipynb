{
 "cells": [
  {
   "cell_type": "code",
   "execution_count": 1,
   "metadata": {},
   "outputs": [],
   "source": [
    "import numpy as np"
   ]
  },
  {
   "cell_type": "code",
   "execution_count": 3,
   "metadata": {},
   "outputs": [],
   "source": [
    "def scalar_projection(u, v):\n",
    "    \"\"\" Calculates the scalar projection of v onto u. \"\"\"\n",
    "    return np.dot(u,v) / np.linalg.norm(u)"
   ]
  },
  {
   "cell_type": "code",
   "execution_count": 4,
   "metadata": {},
   "outputs": [
    {
     "name": "stdout",
     "output_type": "stream",
     "text": [
      "-0.3922322702763681\n"
     ]
    }
   ],
   "source": [
    "u = np.array([4., 1., -3.])\n",
    "v = np.array([-2., 3., -1.])\n",
    "print(scalar_projection(u, v))"
   ]
  },
  {
   "cell_type": "code",
   "execution_count": 6,
   "metadata": {},
   "outputs": [],
   "source": [
    "def unit_vector(vector):\n",
    "    \"\"\" Returns the unit vector of the vector.  \"\"\"\n",
    "    return vector / np.linalg.norm(vector)\n",
    "\n",
    "def vector_projection(u, v):\n",
    "    \"\"\" Calculates the vector projection of v onto u. \"\"\"\n",
    "    return scalar_projection(u, v) * unit_vector(u)\n"
   ]
  },
  {
   "cell_type": "code",
   "execution_count": 7,
   "metadata": {},
   "outputs": [
    {
     "name": "stdout",
     "output_type": "stream",
     "text": [
      "[-0.30769231 -0.07692308  0.23076923]\n"
     ]
    }
   ],
   "source": [
    "print(vector_projection(u, v))"
   ]
  },
  {
   "cell_type": "code",
   "execution_count": 8,
   "metadata": {},
   "outputs": [],
   "source": [
    "def area_parallelogram(u, v):\n",
    "    \"\"\" Calculate the area of parallelogram formed by two vectors u and v. \"\"\"\n",
    "    return np.linalg.norm(np.cross(u,v))"
   ]
  },
  {
   "cell_type": "code",
   "execution_count": 9,
   "metadata": {},
   "outputs": [
    {
     "name": "stdout",
     "output_type": "stream",
     "text": [
      "18.973665961010276\n"
     ]
    }
   ],
   "source": [
    "print(area_parallelogram(u, v))"
   ]
  },
  {
   "cell_type": "code",
   "execution_count": 10,
   "metadata": {},
   "outputs": [],
   "source": [
    "def volume_parallelepiped(u, v, w):\n",
    "    \"\"\" Calculate the volume of parallelepiped formed by two vectors u, v, w. \"\"\"\n",
    "    return np.abs(np.linalg.det(np.c_[u,v,w]))"
   ]
  },
  {
   "cell_type": "code",
   "execution_count": 11,
   "metadata": {},
   "outputs": [
    {
     "name": "stdout",
     "output_type": "stream",
     "text": [
      "14.000000000000004\n"
     ]
    }
   ],
   "source": [
    "w = np.array([1., 2., -3.])\n",
    "print(volume_parallelepiped(u, v, w))"
   ]
  },
  {
   "cell_type": "code",
   "execution_count": 12,
   "metadata": {},
   "outputs": [],
   "source": [
    "def Haversine_dist(latlon1, latlon2):\n",
    "    \"\"\" Haversine Formula for computing the great-circle \n",
    "        distance between two places on the Earth. \n",
    "        Input: (lat1, lon1), (lat2, lon2) in degrees.\n",
    "        Output: Great-circle distance in km.\n",
    "    \"\"\"\n",
    "    R_Earth = 6370 # Earth's Radius\n",
    "    lat1, lon1 = latlon1[0], latlon1[1]\n",
    "    lat2, lon2 = latlon2[0], latlon2[1]\n",
    "    # Converting degree to radian\n",
    "    lat1_rad, lon1_rad, lat2_rad, lon2_rad = np.deg2rad(lat1), np.deg2rad(lon1), np.deg2rad(lat2), np.deg2rad(lon2) \n",
    "    # Haversine's Formula\n",
    "    hav_c = np.sin((lat2_rad-lat1_rad)/2)**2 + np.cos(lat1_rad)*np.cos(lat2_rad)*np.sin((lon2_rad-lon1_rad)/2)**2 \n",
    "    arc_c = 2*np.arcsin(np.sqrt(hav_c)) # Inverting to get the great-circle arc angle\n",
    "    return(R_Earth*arc_c) # Arc angle to arc length"
   ]
  },
  {
   "cell_type": "code",
   "execution_count": 13,
   "metadata": {},
   "outputs": [
    {
     "name": "stdout",
     "output_type": "stream",
     "text": [
      "6847.7618632762305\n"
     ]
    }
   ],
   "source": [
    "print(Haversine_dist((40.73, -73.94), (52.24, 21.02)))"
   ]
  }
 ],
 "metadata": {
  "kernelspec": {
   "display_name": "base",
   "language": "python",
   "name": "python3"
  },
  "language_info": {
   "codemirror_mode": {
    "name": "ipython",
    "version": 3
   },
   "file_extension": ".py",
   "mimetype": "text/x-python",
   "name": "python",
   "nbconvert_exporter": "python",
   "pygments_lexer": "ipython3",
   "version": "3.12.4"
  }
 },
 "nbformat": 4,
 "nbformat_minor": 2
}
