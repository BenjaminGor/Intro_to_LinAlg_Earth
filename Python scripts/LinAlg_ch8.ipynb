{
 "cells": [
  {
   "cell_type": "code",
   "execution_count": 1,
   "metadata": {},
   "outputs": [],
   "source": [
    "import numpy as np\n",
    "from scipy import linalg"
   ]
  },
  {
   "cell_type": "code",
   "execution_count": 2,
   "metadata": {},
   "outputs": [
    {
     "name": "stdout",
     "output_type": "stream",
     "text": [
      "(1-2j) (3+1j)\n"
     ]
    }
   ],
   "source": [
    "z_1 = 1 - 2j\n",
    "z_2 = 3 + 1j\n",
    "print(z_1, z_2)"
   ]
  },
  {
   "cell_type": "code",
   "execution_count": 3,
   "metadata": {},
   "outputs": [
    {
     "name": "stdout",
     "output_type": "stream",
     "text": [
      "(1+2j)\n",
      "3.1622776601683795\n",
      "-1.1071487177940904\n"
     ]
    }
   ],
   "source": [
    "print(np.conjugate(z_1))\n",
    "print(np.abs(z_2))    \n",
    "print(np.angle(z_1))"
   ]
  },
  {
   "cell_type": "code",
   "execution_count": 4,
   "metadata": {},
   "outputs": [
    {
     "name": "stdout",
     "output_type": "stream",
     "text": [
      "(6-5j)\n",
      "(-5-4j)\n",
      "(5-5j)\n",
      "(0.1-0.7000000000000001j)\n"
     ]
    }
   ],
   "source": [
    "print(3*z_1 + z_2) # (6-5j)\n",
    "print(z_1 - 2*z_2) # (-5-4j)\n",
    "print(z_1 * z_2) # (5-5j)\n",
    "print(z_1 / z_2) # (0.1-0.7000000000000001j), floating-point error"
   ]
  },
  {
   "cell_type": "code",
   "execution_count": 5,
   "metadata": {},
   "outputs": [
    {
     "name": "stdout",
     "output_type": "stream",
     "text": [
      "[[ 21.-12.j  -4. +8.j]\n",
      " [-11.-18.j   8. +4.j]]\n"
     ]
    }
   ],
   "source": [
    "A = np.array([[4.  , 2.+1.j],\n",
    "              [-3.j, 1-2.j]])\n",
    "B = np.array([[3-1.j, 0],\n",
    "              [2-5.j, 4.j]])\n",
    "print(A @ B)"
   ]
  },
  {
   "cell_type": "code",
   "execution_count": 6,
   "metadata": {},
   "outputs": [
    {
     "name": "stdout",
     "output_type": "stream",
     "text": [
      "[[ 4.-0.j  2.-1.j]\n",
      " [-0.+3.j  1.+2.j]]\n",
      "[[3.+1.j 2.+5.j]\n",
      " [0.-0.j 0.-4.j]]\n"
     ]
    }
   ],
   "source": [
    "print(np.conjugate(A))\n",
    "print(np.conjugate(B).T) # Hermitian transpose = conjugate + transpose, or just .H if np.matrix is used instead of np.array"
   ]
  },
  {
   "cell_type": "code",
   "execution_count": 7,
   "metadata": {},
   "outputs": [
    {
     "name": "stdout",
     "output_type": "stream",
     "text": [
      "(1-2j)\n",
      "[[3.00000000e-01+0.1j   0.00000000e+00+0.j   ]\n",
      " [3.25000000e-01+0.275j 1.38777878e-17-0.25j ]]\n"
     ]
    }
   ],
   "source": [
    "print(linalg.det(A))\n",
    "print(linalg.inv(B))"
   ]
  },
  {
   "cell_type": "code",
   "execution_count": 8,
   "metadata": {},
   "outputs": [],
   "source": [
    "u = np.array([1+1.j, -3.j, 2])\n",
    "v = np.array([5, 1+2.j, 1-4.j])"
   ]
  },
  {
   "cell_type": "code",
   "execution_count": 9,
   "metadata": {},
   "outputs": [
    {
     "name": "stdout",
     "output_type": "stream",
     "text": [
      "(1+10j)\n"
     ]
    }
   ],
   "source": [
    "print(np.vdot(u,v).conj())"
   ]
  },
  {
   "cell_type": "code",
   "execution_count": 10,
   "metadata": {},
   "outputs": [
    {
     "name": "stdout",
     "output_type": "stream",
     "text": [
      "3.872983346207417\n"
     ]
    }
   ],
   "source": [
    "print(linalg.norm(u))"
   ]
  },
  {
   "cell_type": "code",
   "execution_count": 11,
   "metadata": {},
   "outputs": [
    {
     "name": "stdout",
     "output_type": "stream",
     "text": [
      "[[ 4.+0.j  2.+1.j  3.-1.j  0.+0.j]\n",
      " [-0.-3.j  1.-2.j  2.-5.j  0.+4.j]\n",
      " [ 1.+0.j  3.+2.j -0.-1.j  2.+0.j]]\n"
     ]
    }
   ],
   "source": [
    "C = np.array([1, 3+2.j])\n",
    "D = np.array([-1.j, 2])\n",
    "\n",
    "print(np.block([[A, B],\n",
    "                [C, D]]))"
   ]
  },
  {
   "cell_type": "code",
   "execution_count": 12,
   "metadata": {},
   "outputs": [
    {
     "name": "stdout",
     "output_type": "stream",
     "text": [
      "[[ 4.+0.j  2.+1.j  0.+0.j  0.+0.j  0.+0.j]\n",
      " [-0.-3.j  1.-2.j  0.+0.j  0.+0.j  0.+0.j]\n",
      " [ 0.+0.j  0.+0.j  1.+0.j  0.+0.j  0.+0.j]\n",
      " [ 0.+0.j  0.+0.j  0.+0.j  1.+0.j  0.+0.j]\n",
      " [ 0.+0.j  0.+0.j  0.+0.j  0.+0.j  1.+0.j]]\n"
     ]
    }
   ],
   "source": [
    "print(np.block([[A, np.zeros([2,3])],\n",
    "                [np.zeros([3,2]), np.identity(3)]]))"
   ]
  }
 ],
 "metadata": {
  "kernelspec": {
   "display_name": "base",
   "language": "python",
   "name": "python3"
  },
  "language_info": {
   "codemirror_mode": {
    "name": "ipython",
    "version": 3
   },
   "file_extension": ".py",
   "mimetype": "text/x-python",
   "name": "python",
   "nbconvert_exporter": "python",
   "pygments_lexer": "ipython3",
   "version": "3.12.4"
  }
 },
 "nbformat": 4,
 "nbformat_minor": 2
}
