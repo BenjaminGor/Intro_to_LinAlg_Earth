{
 "cells": [
  {
   "cell_type": "code",
   "execution_count": 6,
   "metadata": {},
   "outputs": [],
   "source": [
    "import numpy as np\n",
    "from scipy import linalg\n",
    "import sympy"
   ]
  },
  {
   "cell_type": "code",
   "execution_count": 2,
   "metadata": {},
   "outputs": [],
   "source": [
    "A = np.array([[1., 3., 1.],\n",
    "              [0., 1., 0.],\n",
    "              [1., 0., 2.]])\n",
    "eigvals, eigvecs = linalg.eig(A)"
   ]
  },
  {
   "cell_type": "code",
   "execution_count": 3,
   "metadata": {},
   "outputs": [
    {
     "name": "stdout",
     "output_type": "stream",
     "text": [
      "[0.38196601+0.j 2.61803399+0.j 1.        +0.j]\n",
      "[[-0.85065081 -0.52573111  0.6882472 ]\n",
      " [ 0.          0.          0.22941573]\n",
      " [ 0.52573111 -0.85065081 -0.6882472 ]]\n"
     ]
    }
   ],
   "source": [
    "print(eigvals)\n",
    "print(eigvecs)"
   ]
  },
  {
   "cell_type": "code",
   "execution_count": 4,
   "metadata": {},
   "outputs": [],
   "source": [
    "B = np.array([[1, -1],\n",
    "              [0,  1]])\n",
    "eigvals, eigvecs = linalg.eig(B)"
   ]
  },
  {
   "cell_type": "code",
   "execution_count": 5,
   "metadata": {},
   "outputs": [
    {
     "name": "stdout",
     "output_type": "stream",
     "text": [
      "[1.+0.j 1.+0.j]\n",
      "[[1.00000000e+00 1.00000000e+00]\n",
      " [0.00000000e+00 2.22044605e-16]]\n"
     ]
    }
   ],
   "source": [
    "print(eigvals)\n",
    "print(eigvecs)"
   ]
  },
  {
   "cell_type": "code",
   "execution_count": 7,
   "metadata": {},
   "outputs": [
    {
     "name": "stdout",
     "output_type": "stream",
     "text": [
      "{1: 2}\n"
     ]
    }
   ],
   "source": [
    "B_sympy = sympy.Matrix(B)\n",
    "print(B_sympy.eigenvals())"
   ]
  },
  {
   "cell_type": "code",
   "execution_count": 8,
   "metadata": {},
   "outputs": [
    {
     "name": "stdout",
     "output_type": "stream",
     "text": [
      "[(1, 2, [Matrix([\n",
      "[1],\n",
      "[0]])])]\n"
     ]
    }
   ],
   "source": [
    "print(B_sympy.eigenvects())"
   ]
  },
  {
   "cell_type": "code",
   "execution_count": 9,
   "metadata": {},
   "outputs": [
    {
     "name": "stdout",
     "output_type": "stream",
     "text": [
      "(Matrix([\n",
      "[     0.85065080835204, -0.726542528005361,     0.248297678000729],\n",
      "[-7.59645419660784e-65, -0.242180842668454, -6.20844560142019e-66],\n",
      "[   -0.525731112119134,  0.726542528005361,     0.401754082332857]]), Matrix([\n",
      "[0.381966011250105,   0,                0],\n",
      "[                0, 1.0,                0],\n",
      "[                0,   0, 2.61803398874989]]))\n"
     ]
    }
   ],
   "source": [
    "A_sympy = sympy.Matrix(A)\n",
    "print(A_sympy.diagonalize())"
   ]
  }
 ],
 "metadata": {
  "kernelspec": {
   "display_name": "base",
   "language": "python",
   "name": "python3"
  },
  "language_info": {
   "codemirror_mode": {
    "name": "ipython",
    "version": 3
   },
   "file_extension": ".py",
   "mimetype": "text/x-python",
   "name": "python",
   "nbconvert_exporter": "python",
   "pygments_lexer": "ipython3",
   "version": "3.12.4"
  }
 },
 "nbformat": 4,
 "nbformat_minor": 2
}
