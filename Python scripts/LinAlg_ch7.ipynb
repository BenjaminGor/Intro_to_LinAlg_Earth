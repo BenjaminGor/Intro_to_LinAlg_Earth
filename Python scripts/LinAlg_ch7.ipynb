{
 "cells": [
  {
   "cell_type": "code",
   "execution_count": 1,
   "metadata": {},
   "outputs": [],
   "source": [
    "import numpy as np\n",
    "from scipy import linalg"
   ]
  },
  {
   "cell_type": "code",
   "execution_count": 2,
   "metadata": {},
   "outputs": [],
   "source": [
    "def P_matrix(B, B_prime):\n",
    "    \"\"\" Computes the P matrix of change in coordinates. \"\"\"\n",
    "    P = linalg.inv(B_prime) @ B\n",
    "    return(P)\n",
    "\n",
    "def coord_trans_vector(vec, P):\n",
    "    \"\"\" Transforms the coordinates of a vector. \"\"\"\n",
    "    trans_vec = linalg.inv(P) @ vec\n",
    "    return(trans_vec)"
   ]
  },
  {
   "cell_type": "code",
   "execution_count": null,
   "metadata": {},
   "outputs": [
    {
     "name": "stdout",
     "output_type": "stream",
     "text": [
      "[1. 1.]\n"
     ]
    }
   ],
   "source": [
    "B1 = np.array([[1.,  1.], \n",
    "              [2., -1.]])\n",
    "\n",
    "P1 = P_matrix(B1, np.identity(2))\n",
    "old_v = np.array([2., 1.])\n",
    "new_v = coord_trans_vector(old_v, P1)\n",
    "print(new_v)"
   ]
  },
  {
   "cell_type": "code",
   "execution_count": 4,
   "metadata": {},
   "outputs": [],
   "source": [
    "def coord_trans_matrix(A, P):\n",
    "    \"\"\" Transforms the coordinates of a matrix. \"\"\"\n",
    "    trans_matrix = linalg.inv(P) @ A @ P\n",
    "    return(trans_matrix)\n"
   ]
  },
  {
   "cell_type": "code",
   "execution_count": 6,
   "metadata": {},
   "outputs": [
    {
     "name": "stdout",
     "output_type": "stream",
     "text": [
      "[[ 0.  1.]\n",
      " [-1.  2.]]\n"
     ]
    }
   ],
   "source": [
    "B2 = np.array([[2., -1.], \n",
    "             [-1.,  1.]])\n",
    "old_A = np.array([[1.,  1.], \n",
    "              [0.,  1.]])\n",
    "\n",
    "P2 = P_matrix(B2, np.identity(2))\n",
    "new_A = coord_trans_matrix(old_A, P2)\n",
    "print(new_A)"
   ]
  },
  {
   "cell_type": "code",
   "execution_count": 7,
   "metadata": {},
   "outputs": [
    {
     "name": "stdout",
     "output_type": "stream",
     "text": [
      "Q =  [[-0.33333333  0.80845208 -0.48507125]\n",
      " [-0.66666667 -0.56591646 -0.48507125]\n",
      " [-0.66666667  0.16169042  0.72760688]]\n",
      "R =  [[-3.          0.33333333 -1.        ]\n",
      " [ 0.          1.37436854  3.15296313]\n",
      " [ 0.          0.         -0.24253563]]\n"
     ]
    }
   ],
   "source": [
    "A = np.array([[1.,  1.,  3.],\n",
    "              [2., -1., -1.],\n",
    "              [2.,  0.,  1.],])\n",
    "Q, R = linalg.qr(A)\n",
    "print(\"Q = \", Q)\n",
    "print(\"R = \", R)"
   ]
  }
 ],
 "metadata": {
  "kernelspec": {
   "display_name": "base",
   "language": "python",
   "name": "python3"
  },
  "language_info": {
   "codemirror_mode": {
    "name": "ipython",
    "version": 3
   },
   "file_extension": ".py",
   "mimetype": "text/x-python",
   "name": "python",
   "nbconvert_exporter": "python",
   "pygments_lexer": "ipython3",
   "version": "3.12.4"
  }
 },
 "nbformat": 4,
 "nbformat_minor": 2
}
